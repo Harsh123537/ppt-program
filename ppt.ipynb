{
 "cells": [
  {
   "cell_type": "code",
   "execution_count": 2,
   "id": "5b82e255-8cd0-41cb-995e-0e267de9d289",
   "metadata": {},
   "outputs": [
    {
     "name": "stdout",
     "output_type": "stream",
     "text": [
      "[0, 1]\n"
     ]
    }
   ],
   "source": [
    "# Q.1\n",
    "\n",
    "def twoSum(nums, target):\n",
    "    num_indices = {}\n",
    "    for i, num in enumerate(nums):\n",
    "        complement = target - num\n",
    "        if complement in num_indices:\n",
    "            return [num_indices[complement], i]\n",
    "        num_indices[num] = i\n",
    "print(twoSum([2,7,11,15],9))"
   ]
  },
  {
   "cell_type": "code",
   "execution_count": 3,
   "id": "877373b8-2124-4a14-9221-ff3566f58011",
   "metadata": {},
   "outputs": [
    {
     "name": "stdout",
     "output_type": "stream",
     "text": [
      "2\n"
     ]
    }
   ],
   "source": [
    "#Q.2\n",
    "\n",
    "def removeElement(nums, val):\n",
    "    i = 0\n",
    "    for j in range(len(nums)):\n",
    "        if nums[j] != val:\n",
    "            nums[i] = nums[j]\n",
    "            i += 1\n",
    "    for k in range(i, len(nums)):\n",
    "        nums[k] = val\n",
    "    return i\n",
    "print(removeElement([3,2,2,3],3))"
   ]
  },
  {
   "cell_type": "code",
   "execution_count": 4,
   "id": "9671a9c4-2a83-4709-8346-f0d6a1e44f60",
   "metadata": {},
   "outputs": [],
   "source": [
    "#Q.3\n",
    "\n",
    "def searchInsert(nums, target):\n",
    "    left, right = 0, len(nums) - 1\n",
    "    while left <= right:\n",
    "        mid = (left + right) // 2\n",
    "        if nums[mid] == target:\n",
    "            return mid\n",
    "        elif nums[mid] < target:\n",
    "            left = mid + 1\n",
    "        else:\n",
    "            right = mid - 1\n",
    "    return left\n"
   ]
  },
  {
   "cell_type": "code",
   "execution_count": 6,
   "id": "5816078c-4b09-4d23-af34-9a6e57e240a1",
   "metadata": {},
   "outputs": [],
   "source": [
    "# Q.4\n",
    "\n",
    "def plusOne(digits):\n",
    "    carry = 1\n",
    "    for i in range(len(digits)-1, -1, -1):\n",
    "        digits[i] += carry\n",
    "        carry = digits[i] // 10\n",
    "        digits[i] %= 10\n",
    "    if carry == 1:\n",
    "        digits.insert(0, 1)\n",
    "    return digits\n"
   ]
  },
  {
   "cell_type": "code",
   "execution_count": 8,
   "id": "361a9679-9b80-4687-a41b-6d6f6a31e934",
   "metadata": {},
   "outputs": [],
   "source": [
    "# Q.5\n",
    "\n",
    "def merge(nums1, m, nums2, n):\n",
    "    p1 = m - 1\n",
    "    p2 = n - 1\n",
    "    p = m + n - 1\n",
    "\n",
    "    while p1 >= 0 and p2 >= 0:\n",
    "        if nums1[p1] > nums2[p2]:\n",
    "            nums1[p] = nums1[p1]\n",
    "            p1 -= 1\n",
    "        else:\n",
    "            nums1[p] = nums2[p2]\n",
    "            p2 -= 1\n",
    "        p -= 1\n",
    "\n",
    "    while p2 >= 0:\n",
    "        nums1[p] = nums2[p2]\n",
    "        p2 -= 1\n",
    "        p -= 1\n",
    "\n",
    "    return nums1\n",
    "\n"
   ]
  },
  {
   "cell_type": "code",
   "execution_count": 9,
   "id": "2a9df312-27ca-42fc-87c2-0232c200d815",
   "metadata": {},
   "outputs": [],
   "source": [
    "# Q.6\n",
    "def containsDuplicate(nums):\n",
    "    num_set = set()\n",
    "    for num in nums:\n",
    "        if num in num_set:\n",
    "            return True\n",
    "        num_set.add(num)\n",
    "    return False\n"
   ]
  },
  {
   "cell_type": "code",
   "execution_count": 10,
   "id": "c6d0c9b8-1d8d-41cd-9e3b-c920ab6470b8",
   "metadata": {},
   "outputs": [],
   "source": [
    "# Q.7\n",
    "\n",
    "def moveZeroes(nums):\n",
    "    i = 0\n",
    "    for j in range(len(nums)):\n",
    "        if nums[j] != 0:\n",
    "            nums[i] = nums[j]\n",
    "            i += 1\n",
    "    for j in range(i, len(nums)):\n",
    "        nums[j] = 0\n"
   ]
  },
  {
   "cell_type": "code",
   "execution_count": 11,
   "id": "b035bdc4-b346-4885-917f-a7cddf4db876",
   "metadata": {},
   "outputs": [],
   "source": [
    "# Q.8\n",
    "\n",
    "def findErrorNums(nums):\n",
    "    numSet = set()\n",
    "    duplicateNum = 0\n",
    "    missingNum = 0\n",
    "\n",
    "    for num in nums:\n",
    "        if num not in numSet:\n",
    "            numSet.add(num)\n",
    "        else:\n",
    "            duplicateNum = num\n",
    "        missingNum += num\n",
    "\n",
    "    n = len(nums)\n",
    "    expectedSum = (n * (n + 1)) // 2\n",
    "    actualSum = sum(nums)\n",
    "    missingNum = expectedSum - actualSum + duplicateNum\n",
    "\n",
    "    return [duplicateNum, missingNum]\n"
   ]
  },
  {
   "cell_type": "code",
   "execution_count": null,
   "id": "65aa5814-57ab-4f48-a998-3ee6e68cc95d",
   "metadata": {},
   "outputs": [],
   "source": []
  }
 ],
 "metadata": {
  "kernelspec": {
   "display_name": "Python 3 (ipykernel)",
   "language": "python",
   "name": "python3"
  },
  "language_info": {
   "codemirror_mode": {
    "name": "ipython",
    "version": 3
   },
   "file_extension": ".py",
   "mimetype": "text/x-python",
   "name": "python",
   "nbconvert_exporter": "python",
   "pygments_lexer": "ipython3",
   "version": "3.10.8"
  }
 },
 "nbformat": 4,
 "nbformat_minor": 5
}
